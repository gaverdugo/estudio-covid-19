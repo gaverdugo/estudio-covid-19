{
 "cells": [
  {
   "cell_type": "markdown",
   "metadata": {},
   "source": [
    "# Procesamiento Datos COVID-19 Sonora"
   ]
  },
  {
   "cell_type": "markdown",
   "metadata": {},
   "source": [
    "Los datos utilizados para esta operación fueron obtenidos el día 27 de Mayo de 2020 del portal del gobierno dedicado a esos datos https://coronavirus.gob.mx/datos/.\n",
    "\n",
    "El portal provee datos para casos confirmados por dia para cada estado."
   ]
  },
  {
   "cell_type": "markdown",
   "metadata": {},
   "source": [
    "## Obtención de datos de Sonora de la lista general de estados"
   ]
  },
  {
   "cell_type": "code",
   "execution_count": 2,
   "metadata": {},
   "outputs": [
    {
     "name": "stdout",
     "output_type": "stream",
     "text": [
      "[0, 0, 0, 0, 0, 0, 0, 0, 0, 0, 0, 0, 0, 0, 0, 0, 0, 0, 0, 0, 0, 0, 0, 0, 0, 0, 0, 0, 0, 0, 0, 0, 0, 0, 0, 0, 0, 0, 0, 0, 0, 0, 0, 0, 0, 0, 0, 0, 0, 0, 0, 0, 0, 0, 0, 0, 0, 0, 0, 0, 0, 0, 1, 0, 1, 0, 0, 1, 1, 0, 3, 4, 3, 1, 5, 4, 0, 1, 5, 1, 3, 1, 7, 2, 11, 10, 11, 5, 5, 5, 3, 16, 6, 13, 8, 10, 14, 7, 7, 14, 17, 6, 19, 9, 15, 32, 15, 18, 27, 22, 31, 26, 61, 52, 39, 38, 55, 43, 28, 61, 57, 94, 58, 89, 49, 58, 128, 87, 80, 67, 35, 7, 1, 0, 0, 0]\n"
     ]
    }
   ],
   "source": [
    "# importamos las librerias necesarias para este cuaderno\n",
    "import csv\n",
    "import os\n",
    "import matplotlib.pyplot as plt\n",
    "from itertools import accumulate\n",
    "import numpy as np\n",
    "from sympy import Matrix, Number, init_printing, pprint\n",
    "init_printing(use_unicode=True)\n",
    "\n",
    "# Graficas mas grandes\n",
    "plt.rcParams['figure.figsize'] = [10, 5]\n",
    "\n",
    "current_dir =  os.path.abspath(\"\")\n",
    "file_path = os.path.join(current_dir, \"casos-diarios-covid.csv\")\n",
    "datos_sonora = None\n",
    "\n",
    "with open(file_path, newline=\"\") as csv_file:\n",
    "    csv_reader = csv.reader(csv_file)\n",
    "    csv_reader = list(csv_reader)\n",
    "    datos_sonora = csv_reader[26]\n",
    "    \n",
    "# Nos deshacemos de los headers\n",
    "\n",
    "datos_sonora = datos_sonora[3:]\n",
    "\n",
    "# Convertimos los elementos de la lista en numeros enteros\n",
    "\n",
    "datos_sonora = list(map(int, datos_sonora))\n",
    "\n",
    "print(datos_sonora)"
   ]
  },
  {
   "cell_type": "markdown",
   "metadata": {},
   "source": [
    "Se puede apreciar que el primer caso confirmado en Sonora fue registrado 63 días despues de la captura de datos del CONACYT, o el 15 de Marzo de 2020.\n",
    "\n",
    "Por lo tanto nos deshacemos de los primeros 63 dias ya que no hubo actividad de infección confirmada durante esas fechas."
   ]
  },
  {
   "cell_type": "code",
   "execution_count": 3,
   "metadata": {},
   "outputs": [
    {
     "name": "stdout",
     "output_type": "stream",
     "text": [
      "[1, 0, 1, 0, 0, 1, 1, 0, 3, 4, 3, 1, 5, 4, 0, 1, 5, 1, 3, 1, 7, 2, 11, 10, 11, 5, 5, 5, 3, 16, 6, 13, 8, 10, 14, 7, 7, 14, 17, 6, 19, 9, 15, 32, 15, 18, 27, 22, 31, 26, 61, 52, 39, 38, 55, 43, 28, 61, 57, 94, 58, 89, 49, 58, 128, 87, 80, 67, 35, 7, 1, 0, 0, 0]\n"
     ]
    }
   ],
   "source": [
    "datos_sonora = datos_sonora[62:]\n",
    "print(datos_sonora)"
   ]
  },
  {
   "cell_type": "markdown",
   "metadata": {},
   "source": [
    "Obtenemos el numero total de elementos de la lista y obtenemos división entera para conocer el numero total de semanas capturadas"
   ]
  },
  {
   "cell_type": "code",
   "execution_count": 4,
   "metadata": {},
   "outputs": [
    {
     "name": "stdout",
     "output_type": "stream",
     "text": [
      "[1, 0, 1, 0, 0, 1, 1, 0, 3, 4, 3, 1, 5, 4, 0, 1, 5, 1, 3, 1, 7, 2, 11, 10, 11, 5, 5, 5, 3, 16, 6, 13, 8, 10, 14, 7, 7, 14, 17, 6, 19, 9, 15, 32, 15, 18, 27, 22, 31, 26, 61, 52, 39, 38, 55, 43, 28, 61, 57, 94, 58, 89, 49, 58, 128, 87, 80, 67, 35, 7]\n"
     ]
    }
   ],
   "source": [
    "num_semanas = len(datos_sonora) // 7\n",
    "datos_sonora = datos_sonora[:(7 * num_semanas)]\n",
    "print(datos_sonora)"
   ]
  },
  {
   "cell_type": "markdown",
   "metadata": {},
   "source": [
    "Estos datos cubren 70 días desde el 15 de Marzo hasta el 23 de Mayo de 2020"
   ]
  },
  {
   "cell_type": "markdown",
   "metadata": {},
   "source": [
    "## Transformación de la lista a acumulado"
   ]
  },
  {
   "cell_type": "code",
   "execution_count": 5,
   "metadata": {
    "scrolled": false
   },
   "outputs": [],
   "source": [
    "datos_sonora = accumulate(datos_sonora)\n",
    "datos_sonora = list(datos_sonora)"
   ]
  },
  {
   "cell_type": "markdown",
   "metadata": {},
   "source": [
    "## Graficar datos acumulados"
   ]
  },
  {
   "cell_type": "code",
   "execution_count": 6,
   "metadata": {},
   "outputs": [
    {
     "data": {
      "image/png": "[encoded data removed]",
      "text/plain": [
       "<Figure size 720x360 with 1 Axes>"
      ]
     },
     "metadata": {
      "needs_background": "light"
     },
     "output_type": "display_data"
    }
   ],
   "source": [
    "plt.plot(datos_sonora, 'ro')\n",
    "plt.xlabel(\"Días desde Marzo 15, 2020\")\n",
    "plt.ylabel(\"Numero de infecciones confirmadas\")\n",
    "plt.show()"
   ]
  },
  {
   "cell_type": "markdown",
   "metadata": {},
   "source": [
    "## Realizar ajuste por minimos cuadrados a ecuación de tercer orden"
   ]
  },
  {
   "cell_type": "code",
   "execution_count": 7,
   "metadata": {},
   "outputs": [
    {
     "data": {
      "text/latex": [
       "$\\displaystyle \\left[\\begin{matrix}1\\\\1\\\\2\\\\2\\\\2\\\\3\\\\4\\\\4\\\\7\\\\11\\\\14\\\\15\\\\20\\\\24\\\\24\\\\25\\\\30\\\\31\\\\34\\\\35\\\\42\\\\44\\\\55\\\\65\\\\76\\\\81\\\\86\\\\91\\\\94\\\\110\\\\116\\\\129\\\\137\\\\147\\\\161\\\\168\\\\175\\\\189\\\\206\\\\212\\\\231\\\\240\\\\255\\\\287\\\\302\\\\320\\\\347\\\\369\\\\400\\\\426\\\\487\\\\539\\\\578\\\\616\\\\671\\\\714\\\\742\\\\803\\\\860\\\\954\\\\1012\\\\1101\\\\1150\\\\1208\\\\1336\\\\1423\\\\1503\\\\1570\\\\1605\\\\1612\\end{matrix}\\right]$"
      ],
      "text/plain": [
       "⎡ 1  ⎤\n",
       "⎢    ⎥\n",
       "⎢ 1  ⎥\n",
       "⎢    ⎥\n",
       "⎢ 2  ⎥\n",
       "⎢    ⎥\n",
       "⎢ 2  ⎥\n",
       "⎢    ⎥\n",
       "⎢ 2  ⎥\n",
       "⎢    ⎥\n",
       "⎢ 3  ⎥\n",
       "⎢    ⎥\n",
       "⎢ 4  ⎥\n",
       "⎢    ⎥\n",
       "⎢ 4  ⎥\n",
       "⎢    ⎥\n",
       "⎢ 7  ⎥\n",
       "⎢    ⎥\n",
       "⎢ 11 ⎥\n",
       "⎢    ⎥\n",
       "⎢ 14 ⎥\n",
       "⎢    ⎥\n",
       "⎢ 15 ⎥\n",
       "⎢    ⎥\n",
       "⎢ 20 ⎥\n",
       "⎢    ⎥\n",
       "⎢ 24 ⎥\n",
       "⎢    ⎥\n",
       "⎢ 24 ⎥\n",
       "⎢    ⎥\n",
       "⎢ 25 ⎥\n",
       "⎢    ⎥\n",
       "⎢ 30 ⎥\n",
       "⎢    ⎥\n",
       "⎢ 31 ⎥\n",
       "⎢    ⎥\n",
       "⎢ 34 ⎥\n",
       "⎢    ⎥\n",
       "⎢ 35 ⎥\n",
       "⎢    ⎥\n",
       "⎢ 42 ⎥\n",
       "⎢    ⎥\n",
       "⎢ 44 ⎥\n",
       "⎢    ⎥\n",
       "⎢ 55 ⎥\n",
       "⎢    ⎥\n",
       "⎢ 65 ⎥\n",
       "⎢    ⎥\n",
       "⎢ 76 ⎥\n",
       "⎢    ⎥\n",
       "⎢ 81 ⎥\n",
       "⎢    ⎥\n",
       "⎢ 86 ⎥\n",
       "⎢    ⎥\n",
       "⎢ 91 ⎥\n",
       "⎢    ⎥\n",
       "⎢ 94 ⎥\n",
       "⎢    ⎥\n",
       "⎢110 ⎥\n",
       "⎢    ⎥\n",
       "⎢116 ⎥\n",
       "⎢    ⎥\n",
       "⎢129 ⎥\n",
       "⎢    ⎥\n",
       "⎢137 ⎥\n",
       "⎢    ⎥\n",
       "⎢147 ⎥\n",
       "⎢    ⎥\n",
       "⎢161 ⎥\n",
       "⎢    ⎥\n",
       "⎢168 ⎥\n",
       "⎢    ⎥\n",
       "⎢175 ⎥\n",
       "⎢    ⎥\n",
       "⎢189 ⎥\n",
       "⎢    ⎥\n",
       "⎢206 ⎥\n",
       "⎢    ⎥\n",
       "⎢212 ⎥\n",
       "⎢    ⎥\n",
       "⎢231 ⎥\n",
       "⎢    ⎥\n",
       "⎢240 ⎥\n",
       "⎢    ⎥\n",
       "⎢255 ⎥\n",
       "⎢    ⎥\n",
       "⎢287 ⎥\n",
       "⎢    ⎥\n",
       "⎢302 ⎥\n",
       "⎢    ⎥\n",
       "⎢320 ⎥\n",
       "⎢    ⎥\n",
       "⎢347 ⎥\n",
       "⎢    ⎥\n",
       "⎢369 ⎥\n",
       "⎢    ⎥\n",
       "⎢400 ⎥\n",
       "⎢    ⎥\n",
       "⎢426 ⎥\n",
       "⎢    ⎥\n",
       "⎢487 ⎥\n",
       "⎢    ⎥\n",
       "⎢539 ⎥\n",
       "⎢    ⎥\n",
       "⎢578 ⎥\n",
       "⎢    ⎥\n",
       "⎢616 ⎥\n",
       "⎢    ⎥\n",
       "⎢671 ⎥\n",
       "⎢    ⎥\n",
       "⎢714 ⎥\n",
       "⎢    ⎥\n",
       "⎢742 ⎥\n",
       "⎢    ⎥\n",
       "⎢803 ⎥\n",
       "⎢    ⎥\n",
       "⎢860 ⎥\n",
       "⎢    ⎥\n",
       "⎢954 ⎥\n",
       "⎢    ⎥\n",
       "⎢1012⎥\n",
       "⎢    ⎥\n",
       "⎢1101⎥\n",
       "⎢    ⎥\n",
       "⎢1150⎥\n",
       "⎢    ⎥\n",
       "⎢1208⎥\n",
       "⎢    ⎥\n",
       "⎢1336⎥\n",
       "⎢    ⎥\n",
       "⎢1423⎥\n",
       "⎢    ⎥\n",
       "⎢1503⎥\n",
       "⎢    ⎥\n",
       "⎢1570⎥\n",
       "⎢    ⎥\n",
       "⎢1605⎥\n",
       "⎢    ⎥\n",
       "⎣1612⎦"
      ]
     },
     "execution_count": 7,
     "metadata": {},
     "output_type": "execute_result"
    }
   ],
   "source": [
    "y_matrix = Matrix(datos_sonora)\n",
    "y_matrix"
   ]
  },
  {
   "cell_type": "code",
   "execution_count": 8,
   "metadata": {},
   "outputs": [
    {
     "data": {
      "text/latex": [
       "$\\displaystyle \\left[\\begin{matrix}1 & 0 & 0 & 0\\\\1 & 1 & 1 & 1\\\\1 & 2 & 4 & 8\\\\1 & 3 & 9 & 27\\\\1 & 4 & 16 & 64\\\\1 & 5 & 25 & 125\\\\1 & 6 & 36 & 216\\\\1 & 7 & 49 & 343\\\\1 & 8 & 64 & 512\\\\1 & 9 & 81 & 729\\\\1 & 10 & 100 & 1000\\\\1 & 11 & 121 & 1331\\\\1 & 12 & 144 & 1728\\\\1 & 13 & 169 & 2197\\\\1 & 14 & 196 & 2744\\\\1 & 15 & 225 & 3375\\\\1 & 16 & 256 & 4096\\\\1 & 17 & 289 & 4913\\\\1 & 18 & 324 & 5832\\\\1 & 19 & 361 & 6859\\\\1 & 20 & 400 & 8000\\\\1 & 21 & 441 & 9261\\\\1 & 22 & 484 & 10648\\\\1 & 23 & 529 & 12167\\\\1 & 24 & 576 & 13824\\\\1 & 25 & 625 & 15625\\\\1 & 26 & 676 & 17576\\\\1 & 27 & 729 & 19683\\\\1 & 28 & 784 & 21952\\\\1 & 29 & 841 & 24389\\\\1 & 30 & 900 & 27000\\\\1 & 31 & 961 & 29791\\\\1 & 32 & 1024 & 32768\\\\1 & 33 & 1089 & 35937\\\\1 & 34 & 1156 & 39304\\\\1 & 35 & 1225 & 42875\\\\1 & 36 & 1296 & 46656\\\\1 & 37 & 1369 & 50653\\\\1 & 38 & 1444 & 54872\\\\1 & 39 & 1521 & 59319\\\\1 & 40 & 1600 & 64000\\\\1 & 41 & 1681 & 68921\\\\1 & 42 & 1764 & 74088\\\\1 & 43 & 1849 & 79507\\\\1 & 44 & 1936 & 85184\\\\1 & 45 & 2025 & 91125\\\\1 & 46 & 2116 & 97336\\\\1 & 47 & 2209 & 103823\\\\1 & 48 & 2304 & 110592\\\\1 & 49 & 2401 & 117649\\\\1 & 50 & 2500 & 125000\\\\1 & 51 & 2601 & 132651\\\\1 & 52 & 2704 & 140608\\\\1 & 53 & 2809 & 148877\\\\1 & 54 & 2916 & 157464\\\\1 & 55 & 3025 & 166375\\\\1 & 56 & 3136 & 175616\\\\1 & 57 & 3249 & 185193\\\\1 & 58 & 3364 & 195112\\\\1 & 59 & 3481 & 205379\\\\1 & 60 & 3600 & 216000\\\\1 & 61 & 3721 & 226981\\\\1 & 62 & 3844 & 238328\\\\1 & 63 & 3969 & 250047\\\\1 & 64 & 4096 & 262144\\\\1 & 65 & 4225 & 274625\\\\1 & 66 & 4356 & 287496\\\\1 & 67 & 4489 & 300763\\\\1 & 68 & 4624 & 314432\\\\1 & 69 & 4761 & 328509\\end{matrix}\\right]$"
      ],
      "text/plain": [
       "⎡1  0    0      0   ⎤\n",
       "⎢                   ⎥\n",
       "⎢1  1    1      1   ⎥\n",
       "⎢                   ⎥\n",
       "⎢1  2    4      8   ⎥\n",
       "⎢                   ⎥\n",
       "⎢1  3    9      27  ⎥\n",
       "⎢                   ⎥\n",
       "⎢1  4    16     64  ⎥\n",
       "⎢                   ⎥\n",
       "⎢1  5    25    125  ⎥\n",
       "⎢                   ⎥\n",
       "⎢1  6    36    216  ⎥\n",
       "⎢                   ⎥\n",
       "⎢1  7    49    343  ⎥\n",
       "⎢                   ⎥\n",
       "⎢1  8    64    512  ⎥\n",
       "⎢                   ⎥\n",
       "⎢1  9    81    729  ⎥\n",
       "⎢                   ⎥\n",
       "⎢1  10  100    1000 ⎥\n",
       "⎢                   ⎥\n",
       "⎢1  11  121    1331 ⎥\n",
       "⎢                   ⎥\n",
       "⎢1  12  144    1728 ⎥\n",
       "⎢                   ⎥\n",
       "⎢1  13  169    2197 ⎥\n",
       "⎢                   ⎥\n",
       "⎢1  14  196    2744 ⎥\n",
       "⎢                   ⎥\n",
       "⎢1  15  225    3375 ⎥\n",
       "⎢                   ⎥\n",
       "⎢1  16  256    4096 ⎥\n",
       "⎢                   ⎥\n",
       "⎢1  17  289    4913 ⎥\n",
       "⎢                   ⎥\n",
       "⎢1  18  324    5832 ⎥\n",
       "⎢                   ⎥\n",
       "⎢1  19  361    6859 ⎥\n",
       "⎢                   ⎥\n",
       "⎢1  20  400    8000 ⎥\n",
       "⎢                   ⎥\n",
       "⎢1  21  441    9261 ⎥\n",
       "⎢                   ⎥\n",
       "⎢1  22  484   10648 ⎥\n",
       "⎢                   ⎥\n",
       "⎢1  23  529   12167 ⎥\n",
       "⎢                   ⎥\n",
       "⎢1  24  576   13824 ⎥\n",
       "⎢                   ⎥\n",
       "⎢1  25  625   15625 ⎥\n",
       "⎢                   ⎥\n",
       "⎢1  26  676   17576 ⎥\n",
       "⎢                   ⎥\n",
       "⎢1  27  729   19683 ⎥\n",
       "⎢                   ⎥\n",
       "⎢1  28  784   21952 ⎥\n",
       "⎢                   ⎥\n",
       "⎢1  29  841   24389 ⎥\n",
       "⎢                   ⎥\n",
       "⎢1  30  900   27000 ⎥\n",
       "⎢                   ⎥\n",
       "⎢1  31  961   29791 ⎥\n",
       "⎢                   ⎥\n",
       "⎢1  32  1024  32768 ⎥\n",
       "⎢                   ⎥\n",
       "⎢1  33  1089  35937 ⎥\n",
       "⎢                   ⎥\n",
       "⎢1  34  1156  39304 ⎥\n",
       "⎢                   ⎥\n",
       "⎢1  35  1225  42875 ⎥\n",
       "⎢                   ⎥\n",
       "⎢1  36  1296  46656 ⎥\n",
       "⎢                   ⎥\n",
       "⎢1  37  1369  50653 ⎥\n",
       "⎢                   ⎥\n",
       "⎢1  38  1444  54872 ⎥\n",
       "⎢                   ⎥\n",
       "⎢1  39  1521  59319 ⎥\n",
       "⎢                   ⎥\n",
       "⎢1  40  1600  64000 ⎥\n",
       "⎢                   ⎥\n",
       "⎢1  41  1681  68921 ⎥\n",
       "⎢                   ⎥\n",
       "⎢1  42  1764  74088 ⎥\n",
       "⎢                   ⎥\n",
       "⎢1  43  1849  79507 ⎥\n",
       "⎢                   ⎥\n",
       "⎢1  44  1936  85184 ⎥\n",
       "⎢                   ⎥\n",
       "⎢1  45  2025  91125 ⎥\n",
       "⎢                   ⎥\n",
       "⎢1  46  2116  97336 ⎥\n",
       "⎢                   ⎥\n",
       "⎢1  47  2209  103823⎥\n",
       "⎢                   ⎥\n",
       "⎢1  48  2304  110592⎥\n",
       "⎢                   ⎥\n",
       "⎢1  49  2401  117649⎥\n",
       "⎢                   ⎥\n",
       "⎢1  50  2500  125000⎥\n",
       "⎢                   ⎥\n",
       "⎢1  51  2601  132651⎥\n",
       "⎢                   ⎥\n",
       "⎢1  52  2704  140608⎥\n",
       "⎢                   ⎥\n",
       "⎢1  53  2809  148877⎥\n",
       "⎢                   ⎥\n",
       "⎢1  54  2916  157464⎥\n",
       "⎢                   ⎥\n",
       "⎢1  55  3025  166375⎥\n",
       "⎢                   ⎥\n",
       "⎢1  56  3136  175616⎥\n",
       "⎢                   ⎥\n",
       "⎢1  57  3249  185193⎥\n",
       "⎢                   ⎥\n",
       "⎢1  58  3364  195112⎥\n",
       "⎢                   ⎥\n",
       "⎢1  59  3481  205379⎥\n",
       "⎢                   ⎥\n",
       "⎢1  60  3600  216000⎥\n",
       "⎢                   ⎥\n",
       "⎢1  61  3721  226981⎥\n",
       "⎢                   ⎥\n",
       "⎢1  62  3844  238328⎥\n",
       "⎢                   ⎥\n",
       "⎢1  63  3969  250047⎥\n",
       "⎢                   ⎥\n",
       "⎢1  64  4096  262144⎥\n",
       "⎢                   ⎥\n",
       "⎢1  65  4225  274625⎥\n",
       "⎢                   ⎥\n",
       "⎢1  66  4356  287496⎥\n",
       "⎢                   ⎥\n",
       "⎢1  67  4489  300763⎥\n",
       "⎢                   ⎥\n",
       "⎢1  68  4624  314432⎥\n",
       "⎢                   ⎥\n",
       "⎣1  69  4761  328509⎦"
      ]
     },
     "execution_count": 8,
     "metadata": {},
     "output_type": "execute_result"
    }
   ],
   "source": [
    "A_matrix = Matrix([[1, x, x**2, x**3] for x in range(0,70)])\n",
    "A_matrix"
   ]
  },
  {
   "cell_type": "code",
   "execution_count": 9,
   "metadata": {},
   "outputs": [
    {
     "data": {
      "text/latex": [
       "$\\displaystyle \\left[\\begin{array}{cccccccccccccccccccccccccccccccccccccccccccccccccccccccccccccccccccccc}1 & 1 & 1 & 1 & 1 & 1 & 1 & 1 & 1 & 1 & 1 & 1 & 1 & 1 & 1 & 1 & 1 & 1 & 1 & 1 & 1 & 1 & 1 & 1 & 1 & 1 & 1 & 1 & 1 & 1 & 1 & 1 & 1 & 1 & 1 & 1 & 1 & 1 & 1 & 1 & 1 & 1 & 1 & 1 & 1 & 1 & 1 & 1 & 1 & 1 & 1 & 1 & 1 & 1 & 1 & 1 & 1 & 1 & 1 & 1 & 1 & 1 & 1 & 1 & 1 & 1 & 1 & 1 & 1 & 1\\\\0 & 1 & 2 & 3 & 4 & 5 & 6 & 7 & 8 & 9 & 10 & 11 & 12 & 13 & 14 & 15 & 16 & 17 & 18 & 19 & 20 & 21 & 22 & 23 & 24 & 25 & 26 & 27 & 28 & 29 & 30 & 31 & 32 & 33 & 34 & 35 & 36 & 37 & 38 & 39 & 40 & 41 & 42 & 43 & 44 & 45 & 46 & 47 & 48 & 49 & 50 & 51 & 52 & 53 & 54 & 55 & 56 & 57 & 58 & 59 & 60 & 61 & 62 & 63 & 64 & 65 & 66 & 67 & 68 & 69\\\\0 & 1 & 4 & 9 & 16 & 25 & 36 & 49 & 64 & 81 & 100 & 121 & 144 & 169 & 196 & 225 & 256 & 289 & 324 & 361 & 400 & 441 & 484 & 529 & 576 & 625 & 676 & 729 & 784 & 841 & 900 & 961 & 1024 & 1089 & 1156 & 1225 & 1296 & 1369 & 1444 & 1521 & 1600 & 1681 & 1764 & 1849 & 1936 & 2025 & 2116 & 2209 & 2304 & 2401 & 2500 & 2601 & 2704 & 2809 & 2916 & 3025 & 3136 & 3249 & 3364 & 3481 & 3600 & 3721 & 3844 & 3969 & 4096 & 4225 & 4356 & 4489 & 4624 & 4761\\\\0 & 1 & 8 & 27 & 64 & 125 & 216 & 343 & 512 & 729 & 1000 & 1331 & 1728 & 2197 & 2744 & 3375 & 4096 & 4913 & 5832 & 6859 & 8000 & 9261 & 10648 & 12167 & 13824 & 15625 & 17576 & 19683 & 21952 & 24389 & 27000 & 29791 & 32768 & 35937 & 39304 & 42875 & 46656 & 50653 & 54872 & 59319 & 64000 & 68921 & 74088 & 79507 & 85184 & 91125 & 97336 & 103823 & 110592 & 117649 & 125000 & 132651 & 140608 & 148877 & 157464 & 166375 & 175616 & 185193 & 195112 & 205379 & 216000 & 226981 & 238328 & 250047 & 262144 & 274625 & 287496 & 300763 & 314432 & 328509\\end{array}\\right]$"
      ],
      "text/plain": [
       "⎡1  1  1  1   1    1    1    1    1    1    1     1     1     1     1     1   \n",
       "⎢                                                                             \n",
       "⎢0  1  2  3   4    5    6    7    8    9    10    11    12    13    14    15  \n",
       "⎢                                                                             \n",
       "⎢0  1  4  9   16  25   36   49   64   81   100   121   144   169   196   225  \n",
       "⎢                                                                             \n",
       "⎣0  1  8  27  64  125  216  343  512  729  1000  1331  1728  2197  2744  3375 \n",
       "\n",
       "  1     1     1     1     1     1      1      1      1      1      1      1   \n",
       "                                                                              \n",
       "  16    17    18    19    20    21    22     23     24     25     26     27   \n",
       "                                                                              \n",
       " 256   289   324   361   400   441    484    529    576    625    676    729  \n",
       "                                                                              \n",
       " 4096  4913  5832  6859  8000  9261  10648  12167  13824  15625  17576  19683 \n",
       "\n",
       "   1      1      1      1      1      1      1      1      1      1      1    \n",
       "                                                                              \n",
       "  28     29     30     31     32     33     34     35     36     37     38    \n",
       "                                                                              \n",
       "  784    841    900    961   1024   1089   1156   1225   1296   1369   1444   \n",
       "                                                                              \n",
       " 21952  24389  27000  29791  32768  35937  39304  42875  46656  50653  54872  \n",
       "\n",
       "  1      1      1      1      1      1      1      1      1       1       1   \n",
       "                                                                              \n",
       " 39     40     41     42     43     44     45     46      47      48      49  \n",
       "                                                                              \n",
       "1521   1600   1681   1764   1849   1936   2025   2116    2209    2304    2401 \n",
       "                                                                              \n",
       "59319  64000  68921  74088  79507  85184  91125  97336  103823  110592  117649\n",
       "\n",
       "    1       1       1       1       1       1       1       1       1       1 \n",
       "                                                                              \n",
       "    50      51      52      53      54      55      56      57      58      59\n",
       "                                                                              \n",
       "   2500    2601    2704    2809    2916    3025    3136    3249    3364    348\n",
       "                                                                              \n",
       "  125000  132651  140608  148877  157464  166375  175616  185193  195112  2053\n",
       "\n",
       "      1       1       1       1       1       1       1       1       1       \n",
       "                                                                              \n",
       "      60      61      62      63      64      65      66      67      68      \n",
       "                                                                              \n",
       "1    3600    3721    3844    3969    4096    4225    4356    4489    4624    4\n",
       "                                                                              \n",
       "79  216000  226981  238328  250047  262144  274625  287496  300763  314432  32\n",
       "\n",
       "1   ⎤\n",
       "    ⎥\n",
       "69  ⎥\n",
       "    ⎥\n",
       "761 ⎥\n",
       "    ⎥\n",
       "8509⎦"
      ]
     },
     "execution_count": 9,
     "metadata": {},
     "output_type": "execute_result"
    }
   ],
   "source": [
    "A_matrix.T"
   ]
  },
  {
   "cell_type": "code",
   "execution_count": 10,
   "metadata": {},
   "outputs": [
    {
     "data": {
      "text/latex": [
       "$\\displaystyle \\left[\\begin{matrix}70 & 2415 & 111895 & 5832225\\\\2415 & 111895 & 5832225 & 324249331\\\\111895 & 5832225 & 324249331 & 18777820425\\\\5832225 & 324249331 & 18777820425 & 1118505792835\\end{matrix}\\right]$"
      ],
      "text/plain": [
       "⎡  70       2415       111895        5832225   ⎤\n",
       "⎢                                              ⎥\n",
       "⎢ 2415     111895      5832225      324249331  ⎥\n",
       "⎢                                              ⎥\n",
       "⎢111895    5832225    324249331    18777820425 ⎥\n",
       "⎢                                              ⎥\n",
       "⎣5832225  324249331  18777820425  1118505792835⎦"
      ]
     },
     "execution_count": 10,
     "metadata": {},
     "output_type": "execute_result"
    }
   ],
   "source": [
    "A_matrix.T * A_matrix"
   ]
  },
  {
   "cell_type": "code",
   "execution_count": 11,
   "metadata": {},
   "outputs": [
    {
     "data": {
      "text/latex": [
       "$\\displaystyle \\left[\\begin{matrix}\\frac{74643}{362810} & - \\frac{28985}{1306116} & \\frac{139}{217686} & - \\frac{1}{186588}\\\\- \\frac{28985}{1306116} & \\frac{675013555}{205297925112} & - \\frac{13325}{123972177} & \\frac{28361}{29328275016}\\\\\\frac{139}{217686} & - \\frac{13325}{123972177} & \\frac{85763}{22810880568} & - \\frac{5}{141682488}\\\\- \\frac{1}{186588} & \\frac{28361}{29328275016} & - \\frac{5}{141682488} & \\frac{5}{14664137508}\\end{matrix}\\right]$"
      ],
      "text/plain": [
       "⎡ 74643       -28985          139                    ⎤\n",
       "⎢ ──────      ───────        ──────       -1/186588  ⎥\n",
       "⎢ 362810      1306116        217686                  ⎥\n",
       "⎢                                                    ⎥\n",
       "⎢ -28985     675013555      -13325          28361    ⎥\n",
       "⎢ ───────   ────────────   ─────────     ─────────── ⎥\n",
       "⎢ 1306116   205297925112   123972177     29328275016 ⎥\n",
       "⎢                                                    ⎥\n",
       "⎢  139        -13325         85763                   ⎥\n",
       "⎢ ──────     ─────────    ───────────   -5/141682488 ⎥\n",
       "⎢ 217686     123972177    22810880568                ⎥\n",
       "⎢                                                    ⎥\n",
       "⎢              28361                                 ⎥\n",
       "⎢-1/186588  ───────────   -5/141682488  5/14664137508⎥\n",
       "⎣           29328275016                              ⎦"
      ]
     },
     "execution_count": 11,
     "metadata": {},
     "output_type": "execute_result"
    }
   ],
   "source": [
    "(A_matrix.T * A_matrix)**-1"
   ]
  },
  {
   "cell_type": "code",
   "execution_count": 12,
   "metadata": {},
   "outputs": [
    {
     "data": {
      "text/latex": [
       "$\\displaystyle \\left[\\begin{matrix}-36.3333\\\\11.3484\\\\-0.5693\\\\0.0112\\end{matrix}\\right]$"
      ],
      "text/plain": [
       "⎡-36.3333⎤\n",
       "⎢        ⎥\n",
       "⎢11.3484 ⎥\n",
       "⎢        ⎥\n",
       "⎢-0.5693 ⎥\n",
       "⎢        ⎥\n",
       "⎣ 0.0112 ⎦"
      ]
     },
     "execution_count": 12,
     "metadata": {},
     "output_type": "execute_result"
    }
   ],
   "source": [
    "u_approx = ((A_matrix.T * A_matrix)**-1) * A_matrix.T * y_matrix\n",
    "# convertir a cuatro puntos decimales\n",
    "u_approx.xreplace({n : round(n, 4) for n in u_approx.atoms(Number)})"
   ]
  },
  {
   "cell_type": "markdown",
   "metadata": {},
   "source": [
    "Entonces la ecuación de tercer orden que mejor se ajusta a los datos de COVID-19 hasta el 23 de Mayo, 2020 es:\n",
    "\n",
    "0.0112$x^{3}$-0.5693$x^{2}$+11.3484$x$-36.3333"
   ]
  },
  {
   "cell_type": "code",
   "execution_count": 13,
   "metadata": {
    "scrolled": false
   },
   "outputs": [
    {
     "data": {
      "image/png": "[encoded data removed]",
      "text/plain": [
       "<Figure size 720x360 with 1 Axes>"
      ]
     },
     "metadata": {
      "needs_background": "light"
     },
     "output_type": "display_data"
    }
   ],
   "source": [
    "x = np.array(range(0,70))\n",
    "x2 = np.array(range(0,70))\n",
    "y2 = np.array(datos_sonora)\n",
    "y = 0.0112 * x**3 - 0.5693 * x**2 + 11.3484 * x - 36.3333\n",
    "plt.plot(x2,y2, 'ro')\n",
    "plt.plot(x,y)\n",
    "plt.xlabel(\"Días desde Marzo 15, 2020\")\n",
    "plt.ylabel(\"Numero de infecciones confirmadas\")\n",
    "plt.show()"
   ]
  },
  {
   "cell_type": "code",
   "execution_count": 14,
   "metadata": {},
   "outputs": [
    {
     "name": "stdout",
     "output_type": "stream",
     "text": [
      "1810.0846999999997 12.218518288902644\n"
     ]
    }
   ],
   "source": [
    "x = 70\n",
    "y = 0.0112 * x**3 - 0.5693 * x**2 + 11.3484 * x - 36.3333\n",
    "\n",
    "# El valor real para el dia 70 despues del 15 de Marzo es 1613\n",
    "\n",
    "real_value = 1613\n",
    "\n",
    "error = (y - real_value) / real_value * 100\n",
    "\n",
    "print(y, error)"
   ]
  },
  {
   "cell_type": "code",
   "execution_count": 15,
   "metadata": {},
   "outputs": [
    {
     "name": "stdout",
     "output_type": "stream",
     "text": [
      "[[(0, 1), (1, 1), (2, 2), (3, 2), (4, 2), (5, 3), (6, 4)], [(7, 4), (8, 7), (9, 11), (10, 14), (11, 15), (12, 20), (13, 24)], [(14, 24), (15, 25), (16, 30), (17, 31), (18, 34), (19, 35), (20, 42)], [(21, 44), (22, 55), (23, 65), (24, 76), (25, 81), (26, 86), (27, 91)], [(28, 94), (29, 110), (30, 116), (31, 129), (32, 137), (33, 147), (34, 161)], [(35, 168), (36, 175), (37, 189), (38, 206), (39, 212), (40, 231), (41, 240)], [(42, 255), (43, 287), (44, 302), (45, 320), (46, 347), (47, 369), (48, 400)], [(49, 426), (50, 487), (51, 539), (52, 578), (53, 616), (54, 671), (55, 714)], [(56, 742), (57, 803), (58, 860), (59, 954), (60, 1012), (61, 1101), (62, 1150)], [(63, 1208), (64, 1336), (65, 1423), (66, 1503), (67, 1570), (68, 1605), (69, 1612)]]\n"
     ]
    }
   ],
   "source": [
    "# crear un arreglo de pares ordenados para los datos\n",
    "opairs_datos_sonora = [(i, datos_sonora[i]) for i in range(0, len(datos_sonora))]\n",
    "# dividirlo en subarreglos de 7\n",
    "opairs_datos_sonora = [opairs_datos_sonora[i:i + 7] for i in range(0,70, 7)]\n",
    "print(opairs_datos_sonora)"
   ]
  },
  {
   "cell_type": "markdown",
   "metadata": {},
   "source": [
    "Obtener el u aproximado para cada semana"
   ]
  },
  {
   "cell_type": "code",
   "execution_count": 16,
   "metadata": {},
   "outputs": [
    {
     "name": "stdout",
     "output_type": "stream",
     "text": [
      "⎡ 0.75 ⎤\n",
      "⎢      ⎥\n",
      "⎣0.4643⎦\n",
      "\n",
      "⎡-18.5714⎤\n",
      "⎢        ⎥\n",
      "⎣ 3.2143 ⎦\n",
      "\n",
      "⎡-15.7857⎤\n",
      "⎢        ⎥\n",
      "⎣ 2.7857 ⎦\n",
      "\n",
      "⎡-116.5714⎤\n",
      "⎢         ⎥\n",
      "⎣ 7.8214  ⎦\n",
      "\n",
      "⎡ -200  ⎤\n",
      "⎢       ⎥\n",
      "⎣10.5714⎦\n",
      "\n",
      "⎡-273.3571⎤\n",
      "⎢         ⎥\n",
      "⎣ 12.5357 ⎦\n",
      "\n",
      "⎡-709.2857⎤\n",
      "⎢         ⎥\n",
      "⎣   23    ⎦\n",
      "\n",
      "⎡-1855.1429⎤\n",
      "⎢          ⎥\n",
      "⎣  46.75   ⎦\n",
      "\n",
      "⎡-3209.2857⎤\n",
      "⎢          ⎥\n",
      "⎣ 70.4286  ⎦\n",
      "\n",
      "⎡-3006.2143⎤\n",
      "⎢          ⎥\n",
      "⎣  67.75   ⎦\n",
      "\n"
     ]
    }
   ],
   "source": [
    "matrices = []\n",
    "for week in opairs_datos_sonora:\n",
    "    x_values = [day[0] for day in week]\n",
    "    y_values = [day[1] for day in week]\n",
    "    \n",
    "    y_matrix = Matrix(y_values)\n",
    "    x_matrix = Matrix([[1, x] for x in x_values])\n",
    "    \n",
    "    u_approx = ((x_matrix.T * x_matrix)**-1) * x_matrix.T * y_matrix\n",
    "    \n",
    "    matrices.append(u_approx)\n",
    "    \n",
    "    pprint(u_approx.xreplace({n : round(n, 4) for n in u_approx.atoms(Number)}))\n",
    "    print(\"\")"
   ]
  },
  {
   "cell_type": "code",
   "execution_count": 17,
   "metadata": {},
   "outputs": [
    {
     "data": {
      "image/png": "[encoded data removed]",
      "text/plain": [
       "<Figure size 720x360 with 1 Axes>"
      ]
     },
     "metadata": {
      "needs_background": "light"
     },
     "output_type": "display_data"
    }
   ],
   "source": [
    "for i in range(0, len(matrices)):\n",
    "    x = np.array(range(i * 7, (i * 7) + 7))\n",
    "    y = matrices[i].row(1)[0] * x + matrices[i].row(0)[0]\n",
    "    plt.plot(x,y)\n",
    "plt.xlabel(\"Días desde Marzo 15, 2020\")\n",
    "plt.ylabel(\"Numero de infecciones confirmadas\")\n",
    "plt.show()"
   ]
  },
  {
   "cell_type": "markdown",
   "metadata": {},
   "source": [
    "## Grafica con predicciones a mediano plazo"
   ]
  },
  {
   "cell_type": "code",
   "execution_count": 18,
   "metadata": {},
   "outputs": [
    {
     "data": {
      "image/png": "[encoded data removed]",
      "text/plain": [
       "<Figure size 720x360 with 1 Axes>"
      ]
     },
     "metadata": {
      "needs_background": "light"
     },
     "output_type": "display_data"
    }
   ],
   "source": [
    "x = np.array(range(0,140))\n",
    "x2 = np.array(range(0,70))\n",
    "y2 = np.array(datos_sonora)\n",
    "y = 0.0112 * x**3 - 0.5693 * x**2 + 11.3484 * x - 36.3333\n",
    "plt.plot(x2,y2, 'ro')\n",
    "plt.plot(x,y)\n",
    "plt.xlabel(\"Días desde Marzo 15, 2020\")\n",
    "plt.ylabel(\"Numero de infecciones confirmadas\")\n",
    "plt.show()"
   ]
  }
 ],
 "metadata": {
  "kernelspec": {
   "display_name": "Python 3",
   "language": "python",
   "name": "python3"
  },
  "language_info": {
   "codemirror_mode": {
    "name": "ipython",
    "version": 3
   },
   "file_extension": ".py",
   "mimetype": "text/x-python",
   "name": "python",
   "nbconvert_exporter": "python",
   "pygments_lexer": "ipython3",
   "version": "3.7.6"
  }
 },
 "nbformat": 4,
 "nbformat_minor": 4
}
